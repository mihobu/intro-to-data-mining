{
 "cells": [
  {
   "cell_type": "markdown",
   "metadata": {},
   "source": [
    "# Exploring relationships among categorical variables"
   ]
  },
  {
   "cell_type": "code",
   "execution_count": 2,
   "metadata": {},
   "outputs": [],
   "source": [
    "import pandas as pd\n",
    "import numpy as np\n",
    "import matplotlib.pyplot as plt\n",
    "%matplotlib inline\n",
    "import seaborn as sns"
   ]
  },
  {
   "cell_type": "code",
   "execution_count": 3,
   "metadata": {},
   "outputs": [
    {
     "name": "stdout",
     "output_type": "stream",
     "text": [
      "--2021-12-14 20:29:28--  https://archive.ics.uci.edu/ml/machine-learning-databases/adult/adult.data\n",
      "Resolving archive.ics.uci.edu (archive.ics.uci.edu)... 128.195.10.252\n",
      "Connecting to archive.ics.uci.edu (archive.ics.uci.edu)|128.195.10.252|:443... connected.\n",
      "HTTP request sent, awaiting response... 200 OK\n",
      "Length: 3974305 (3.8M) [application/x-httpd-php]\n",
      "Saving to: '.local_data/adult.data'\n",
      "\n",
      "adult.data          100%[===================>]   3.79M  7.80MB/s    in 0.5s    \n",
      "\n",
      "2021-12-14 20:29:29 (7.80 MB/s) - '.local_data/adult.data' saved [3974305/3974305]\n",
      "\n"
     ]
    }
   ],
   "source": [
    "!wget -nc -P .local_data https://archive.ics.uci.edu/ml/machine-learning-databases/adult/adult.data"
   ]
  },
  {
   "cell_type": "code",
   "execution_count": 5,
   "metadata": {},
   "outputs": [
    {
     "data": {
      "text/plain": [
       "(32561, 15)"
      ]
     },
     "execution_count": 5,
     "metadata": {},
     "output_type": "execute_result"
    }
   ],
   "source": [
    "cols = ['age', 'workclass', 'fnlwgt', 'education', 'educ_num',\n",
    "        'marital_status', 'occupation', 'relationship', 'race',\n",
    "        'sex', 'capgain', 'caploss', 'hours', 'country',\n",
    "        'income']\n",
    "df = pd.read_csv('.local_data/adult.data', names=cols)\n",
    "df.shape"
   ]
  },
  {
   "cell_type": "code",
   "execution_count": 6,
   "metadata": {},
   "outputs": [
    {
     "name": "stdout",
     "output_type": "stream",
     "text": [
      "<class 'pandas.core.frame.DataFrame'>\n",
      "RangeIndex: 32561 entries, 0 to 32560\n",
      "Data columns (total 15 columns):\n",
      " #   Column          Non-Null Count  Dtype \n",
      "---  ------          --------------  ----- \n",
      " 0   age             32561 non-null  int64 \n",
      " 1   workclass       32561 non-null  object\n",
      " 2   fnlwgt          32561 non-null  int64 \n",
      " 3   education       32561 non-null  object\n",
      " 4   educ_num        32561 non-null  int64 \n",
      " 5   marital_status  32561 non-null  object\n",
      " 6   occupation      32561 non-null  object\n",
      " 7   relationship    32561 non-null  object\n",
      " 8   race            32561 non-null  object\n",
      " 9   sex             32561 non-null  object\n",
      " 10  capgain         32561 non-null  int64 \n",
      " 11  caploss         32561 non-null  int64 \n",
      " 12  hours           32561 non-null  int64 \n",
      " 13  country         32561 non-null  object\n",
      " 14  income          32561 non-null  object\n",
      "dtypes: int64(6), object(9)\n",
      "memory usage: 3.7+ MB\n"
     ]
    }
   ],
   "source": [
    "df.info()"
   ]
  },
  {
   "cell_type": "code",
   "execution_count": 7,
   "metadata": {},
   "outputs": [],
   "source": [
    "# Clean up leading and trailing whitespace\n",
    "obj_cols = ['workclass', 'education', 'marital_status', 'occupation', 'relationship', 'race', 'sex', 'country', 'income']\n",
    "for c in obj_cols:\n",
    "    df[c] = df[c].str.strip()"
   ]
  },
  {
   "cell_type": "code",
   "execution_count": 8,
   "metadata": {},
   "outputs": [],
   "source": [
    "# Drop rows having '?' in any attribute\n",
    "bdf = (df == '?')\n",
    "badrows = bdf.any(axis=1)\n",
    "df = df.drop(badrows[badrows==True].index)"
   ]
  },
  {
   "cell_type": "code",
   "execution_count": 9,
   "metadata": {},
   "outputs": [
    {
     "data": {
      "text/html": [
       "<div>\n",
       "<style scoped>\n",
       "    .dataframe tbody tr th:only-of-type {\n",
       "        vertical-align: middle;\n",
       "    }\n",
       "\n",
       "    .dataframe tbody tr th {\n",
       "        vertical-align: top;\n",
       "    }\n",
       "\n",
       "    .dataframe thead th {\n",
       "        text-align: right;\n",
       "    }\n",
       "</style>\n",
       "<table border=\"1\" class=\"dataframe\">\n",
       "  <thead>\n",
       "    <tr style=\"text-align: right;\">\n",
       "      <th></th>\n",
       "      <th>age</th>\n",
       "      <th>workclass</th>\n",
       "      <th>fnlwgt</th>\n",
       "      <th>education</th>\n",
       "      <th>educ_num</th>\n",
       "      <th>marital_status</th>\n",
       "      <th>occupation</th>\n",
       "      <th>relationship</th>\n",
       "      <th>race</th>\n",
       "      <th>sex</th>\n",
       "      <th>capgain</th>\n",
       "      <th>caploss</th>\n",
       "      <th>hours</th>\n",
       "      <th>country</th>\n",
       "      <th>income</th>\n",
       "    </tr>\n",
       "  </thead>\n",
       "  <tbody>\n",
       "    <tr>\n",
       "      <th>24611</th>\n",
       "      <td>46</td>\n",
       "      <td>Private</td>\n",
       "      <td>191204</td>\n",
       "      <td>Assoc-voc</td>\n",
       "      <td>11</td>\n",
       "      <td>Never-married</td>\n",
       "      <td>Exec-managerial</td>\n",
       "      <td>Own-child</td>\n",
       "      <td>White</td>\n",
       "      <td>Female</td>\n",
       "      <td>0</td>\n",
       "      <td>0</td>\n",
       "      <td>40</td>\n",
       "      <td>United-States</td>\n",
       "      <td>&lt;=50K</td>\n",
       "    </tr>\n",
       "    <tr>\n",
       "      <th>21120</th>\n",
       "      <td>32</td>\n",
       "      <td>Private</td>\n",
       "      <td>27856</td>\n",
       "      <td>Some-college</td>\n",
       "      <td>10</td>\n",
       "      <td>Never-married</td>\n",
       "      <td>Adm-clerical</td>\n",
       "      <td>Not-in-family</td>\n",
       "      <td>White</td>\n",
       "      <td>Female</td>\n",
       "      <td>0</td>\n",
       "      <td>0</td>\n",
       "      <td>40</td>\n",
       "      <td>United-States</td>\n",
       "      <td>&lt;=50K</td>\n",
       "    </tr>\n",
       "    <tr>\n",
       "      <th>31052</th>\n",
       "      <td>20</td>\n",
       "      <td>Private</td>\n",
       "      <td>190227</td>\n",
       "      <td>Masters</td>\n",
       "      <td>14</td>\n",
       "      <td>Never-married</td>\n",
       "      <td>Exec-managerial</td>\n",
       "      <td>Own-child</td>\n",
       "      <td>White</td>\n",
       "      <td>Male</td>\n",
       "      <td>0</td>\n",
       "      <td>0</td>\n",
       "      <td>25</td>\n",
       "      <td>United-States</td>\n",
       "      <td>&lt;=50K</td>\n",
       "    </tr>\n",
       "  </tbody>\n",
       "</table>\n",
       "</div>"
      ],
      "text/plain": [
       "       age workclass  fnlwgt     education  educ_num marital_status  \\\n",
       "24611   46   Private  191204     Assoc-voc        11  Never-married   \n",
       "21120   32   Private   27856  Some-college        10  Never-married   \n",
       "31052   20   Private  190227       Masters        14  Never-married   \n",
       "\n",
       "            occupation   relationship   race     sex  capgain  caploss  hours  \\\n",
       "24611  Exec-managerial      Own-child  White  Female        0        0     40   \n",
       "21120     Adm-clerical  Not-in-family  White  Female        0        0     40   \n",
       "31052  Exec-managerial      Own-child  White    Male        0        0     25   \n",
       "\n",
       "             country income  \n",
       "24611  United-States  <=50K  \n",
       "21120  United-States  <=50K  \n",
       "31052  United-States  <=50K  "
      ]
     },
     "execution_count": 9,
     "metadata": {},
     "output_type": "execute_result"
    }
   ],
   "source": [
    "df.sample(3)"
   ]
  },
  {
   "cell_type": "markdown",
   "metadata": {},
   "source": [
    "## Multivariate analysis: categorical vs. categorical"
   ]
  },
  {
   "cell_type": "markdown",
   "metadata": {},
   "source": [
    "### Two-way table\n",
    "\n",
    "Two-way frequency tables, also called contingency tables or confusion matrices, are tables of counts with two dimensions where each dimension is a different variable. Two-way tables can give you insight into the relationship between two variables."
   ]
  },
  {
   "cell_type": "code",
   "execution_count": 10,
   "metadata": {},
   "outputs": [
    {
     "data": {
      "text/html": [
       "<div>\n",
       "<style scoped>\n",
       "    .dataframe tbody tr th:only-of-type {\n",
       "        vertical-align: middle;\n",
       "    }\n",
       "\n",
       "    .dataframe tbody tr th {\n",
       "        vertical-align: top;\n",
       "    }\n",
       "\n",
       "    .dataframe thead th {\n",
       "        text-align: right;\n",
       "    }\n",
       "</style>\n",
       "<table border=\"1\" class=\"dataframe\">\n",
       "  <thead>\n",
       "    <tr style=\"text-align: right;\">\n",
       "      <th>sex</th>\n",
       "      <th>Female</th>\n",
       "      <th>Male</th>\n",
       "    </tr>\n",
       "    <tr>\n",
       "      <th>relationship</th>\n",
       "      <th></th>\n",
       "      <th></th>\n",
       "    </tr>\n",
       "  </thead>\n",
       "  <tbody>\n",
       "    <tr>\n",
       "      <th>Husband</th>\n",
       "      <td>1</td>\n",
       "      <td>12462</td>\n",
       "    </tr>\n",
       "    <tr>\n",
       "      <th>Not-in-family</th>\n",
       "      <td>3566</td>\n",
       "      <td>4160</td>\n",
       "    </tr>\n",
       "    <tr>\n",
       "      <th>Other-relative</th>\n",
       "      <td>386</td>\n",
       "      <td>503</td>\n",
       "    </tr>\n",
       "    <tr>\n",
       "      <th>Own-child</th>\n",
       "      <td>1961</td>\n",
       "      <td>2505</td>\n",
       "    </tr>\n",
       "    <tr>\n",
       "      <th>Unmarried</th>\n",
       "      <td>2463</td>\n",
       "      <td>749</td>\n",
       "    </tr>\n",
       "    <tr>\n",
       "      <th>Wife</th>\n",
       "      <td>1405</td>\n",
       "      <td>1</td>\n",
       "    </tr>\n",
       "  </tbody>\n",
       "</table>\n",
       "</div>"
      ],
      "text/plain": [
       "sex             Female   Male\n",
       "relationship                 \n",
       "Husband              1  12462\n",
       "Not-in-family     3566   4160\n",
       "Other-relative     386    503\n",
       "Own-child         1961   2505\n",
       "Unmarried         2463    749\n",
       "Wife              1405      1"
      ]
     },
     "execution_count": 10,
     "metadata": {},
     "output_type": "execute_result"
    }
   ],
   "source": [
    "twowayct = pd.crosstab(index=df['relationship'], columns=df['sex'], margins=False)\n",
    "twowayct"
   ]
  },
  {
   "cell_type": "markdown",
   "metadata": {},
   "source": [
    "### Histograms by category\n",
    "Side by side histograms let you compare the distributions of an attribute by category."
   ]
  },
  {
   "cell_type": "code",
   "execution_count": 11,
   "metadata": {},
   "outputs": [
    {
     "data": {
      "image/png": "[encoded data removed]",
      "text/plain": [
       "<Figure size 720x360 with 2 Axes>"
      ]
     },
     "metadata": {
      "needs_background": "light"
     },
     "output_type": "display_data"
    }
   ],
   "source": [
    "sns.catplot(data=df, x='relationship', col='sex', kind='count')\n",
    "plt.tight_layout()\n",
    "plt.show()"
   ]
  },
  {
   "cell_type": "markdown",
   "metadata": {},
   "source": [
    "Stacked bars/histograms are not too intuitive in Matplotlib, but can be done."
   ]
  },
  {
   "cell_type": "code",
   "execution_count": 12,
   "metadata": {},
   "outputs": [
    {
     "data": {
      "image/png": "[encoded data removed]",
      "text/plain": [
       "<Figure size 432x288 with 1 Axes>"
      ]
     },
     "metadata": {
      "needs_background": "light"
     },
     "output_type": "display_data"
    }
   ],
   "source": [
    "plt.bar(twowayct.index.values, twowayct.Female.values, color='#ffcccc')\n",
    "plt.bar(twowayct.index.values, twowayct.Male.values, color='#ccccff', bottom=twowayct.Female.values)\n",
    "plt.show()"
   ]
  },
  {
   "cell_type": "markdown",
   "metadata": {},
   "source": [
    "### $\\chi^{2}$ test for independence\n",
    "\n",
    "We can use the $\\chi^{2}$ test to determine whether an association (or relationship) between two categorical variables is significant. (Note: this test will not give us a sense of the size/strength or direction of the relationship.)\n",
    "\n",
    "* p=0 $\\rightarrow$ The variables are interdependent\n",
    "* p=1 $\\rightarrow$ The variables are independent\n",
    "* p=0.05 $\\rightarrow$ There is a significant relationship at 95% confidence level"
   ]
  },
  {
   "cell_type": "code",
   "execution_count": 13,
   "metadata": {},
   "outputs": [],
   "source": [
    "row_totals = twowayct.agg(sum, axis=1).values\n",
    "col_totals = twowayct.agg(sum, axis=0).values"
   ]
  },
  {
   "cell_type": "code",
   "execution_count": 14,
   "metadata": {},
   "outputs": [
    {
     "data": {
      "text/plain": [
       "(array([12463,  7726,   889,  4466,  3212,  1406]), array([ 9782, 20380]))"
      ]
     },
     "execution_count": 14,
     "metadata": {},
     "output_type": "execute_result"
    }
   ],
   "source": [
    "row_totals, col_totals"
   ]
  },
  {
   "cell_type": "code",
   "execution_count": 15,
   "metadata": {},
   "outputs": [
    {
     "data": {
      "text/plain": [
       "array(['Female', 'Male'], dtype=object)"
      ]
     },
     "execution_count": 15,
     "metadata": {},
     "output_type": "execute_result"
    }
   ],
   "source": [
    "twowayct.columns.values"
   ]
  },
  {
   "cell_type": "code",
   "execution_count": 16,
   "metadata": {},
   "outputs": [
    {
     "data": {
      "text/html": [
       "<div>\n",
       "<style scoped>\n",
       "    .dataframe tbody tr th:only-of-type {\n",
       "        vertical-align: middle;\n",
       "    }\n",
       "\n",
       "    .dataframe tbody tr th {\n",
       "        vertical-align: top;\n",
       "    }\n",
       "\n",
       "    .dataframe thead th {\n",
       "        text-align: right;\n",
       "    }\n",
       "</style>\n",
       "<table border=\"1\" class=\"dataframe\">\n",
       "  <thead>\n",
       "    <tr style=\"text-align: right;\">\n",
       "      <th></th>\n",
       "      <th>Female</th>\n",
       "      <th>Male</th>\n",
       "    </tr>\n",
       "  </thead>\n",
       "  <tbody>\n",
       "    <tr>\n",
       "      <th>Husband</th>\n",
       "      <td>4041.942378</td>\n",
       "      <td>8421.057622</td>\n",
       "    </tr>\n",
       "    <tr>\n",
       "      <th>Not-in-family</th>\n",
       "      <td>2505.660500</td>\n",
       "      <td>5220.339500</td>\n",
       "    </tr>\n",
       "    <tr>\n",
       "      <th>Other-relative</th>\n",
       "      <td>288.316358</td>\n",
       "      <td>600.683642</td>\n",
       "    </tr>\n",
       "    <tr>\n",
       "      <th>Own-child</th>\n",
       "      <td>1448.392414</td>\n",
       "      <td>3017.607586</td>\n",
       "    </tr>\n",
       "    <tr>\n",
       "      <th>Unmarried</th>\n",
       "      <td>1041.700948</td>\n",
       "      <td>2170.299052</td>\n",
       "    </tr>\n",
       "    <tr>\n",
       "      <th>Wife</th>\n",
       "      <td>455.987401</td>\n",
       "      <td>950.012599</td>\n",
       "    </tr>\n",
       "  </tbody>\n",
       "</table>\n",
       "</div>"
      ],
      "text/plain": [
       "                     Female         Male\n",
       "Husband         4041.942378  8421.057622\n",
       "Not-in-family   2505.660500  5220.339500\n",
       "Other-relative   288.316358   600.683642\n",
       "Own-child       1448.392414  3017.607586\n",
       "Unmarried       1041.700948  2170.299052\n",
       "Wife             455.987401   950.012599"
      ]
     },
     "execution_count": 16,
     "metadata": {},
     "output_type": "execute_result"
    }
   ],
   "source": [
    "# Compute the expected values\n",
    "N = sum(row_totals) # or sum(col_totals) -- total number of records\n",
    "expected =  np.outer(row_totals, col_totals) / N # outer product divided by N\n",
    "\n",
    "# The rest is just for pretty formatting\n",
    "expected = pd.DataFrame(expected)\n",
    "expected.columns = twowayct.columns.values\n",
    "expected.index = twowayct.index.values\n",
    "expected"
   ]
  },
  {
   "cell_type": "code",
   "execution_count": 17,
   "metadata": {},
   "outputs": [
    {
     "data": {
      "text/plain": [
       "(array([8617.50268296, 4136.23215136]), array([0., 0.]))"
      ]
     },
     "execution_count": 17,
     "metadata": {},
     "output_type": "execute_result"
    }
   ],
   "source": [
    "from scipy.stats import chisquare\n",
    "c, p = chisquare(twowayct, expected)\n",
    "c, p"
   ]
  },
  {
   "cell_type": "markdown",
   "metadata": {},
   "source": [
    "#### Explanation\n",
    "\n",
    "The null hypothesis $H_0$ is that there is no relationship between the two variables.\n",
    "\n",
    "The p-value of 0 leads us to reject the null hypothesis. In other words, we conclude that\n",
    "there is evidence to suggest a relationship between `sex` and `relationship`.\n",
    "\n",
    "The nature and scale of this relationship is not known at this point. If we want to understand\n",
    "the effect SIZE, we could apply Cramér's V. (Do not try this at home.)"
   ]
  },
  {
   "cell_type": "markdown",
   "metadata": {},
   "source": [
    "## Multivariate analysis: categorical vs. continuous"
   ]
  },
  {
   "cell_type": "markdown",
   "metadata": {},
   "source": [
    "### Box plots (or similar) by category"
   ]
  },
  {
   "cell_type": "code",
   "execution_count": 18,
   "metadata": {},
   "outputs": [
    {
     "data": {
      "image/png": "[encoded data removed]",
      "text/plain": [
       "<Figure size 432x288 with 1 Axes>"
      ]
     },
     "metadata": {
      "needs_background": "light"
     },
     "output_type": "display_data"
    }
   ],
   "source": [
    "sns.boxplot(x=df['income'], y=df['age'])\n",
    "plt.show()"
   ]
  },
  {
   "cell_type": "markdown",
   "metadata": {},
   "source": [
    "### Difference of means (binary categorical)\n",
    "Calculate the T-test for the means of two independent samples."
   ]
  },
  {
   "cell_type": "code",
   "execution_count": 19,
   "metadata": {},
   "outputs": [],
   "source": [
    "from scipy.stats import ttest_ind"
   ]
  },
  {
   "cell_type": "code",
   "execution_count": 20,
   "metadata": {},
   "outputs": [
    {
     "data": {
      "text/plain": [
       "Ttest_indResult(statistic=-43.31437788497932, pvalue=0.0)"
      ]
     },
     "execution_count": 20,
     "metadata": {},
     "output_type": "execute_result"
    }
   ],
   "source": [
    "ttest_ind(df[df['income']=='<=50K']['age'], df[df['income']=='>50K']['age'])"
   ]
  },
  {
   "cell_type": "markdown",
   "metadata": {},
   "source": [
    "#### Explanation\n",
    "\n",
    "The null hypothesis is that the two distributions have equal means.\n",
    "\n",
    "Since the p-value is very small, we reject the null hypothesis.\n",
    "\n",
    "According to this test, these two groups represent different populations. In other words,\n",
    "the age distributions among people in the higher income differs meaningfully from that of the lower income group.\n",
    "\n",
    "This should not come as a shock, but if you're still not convinced let's look at violin plots:"
   ]
  },
  {
   "cell_type": "code",
   "execution_count": 21,
   "metadata": {},
   "outputs": [
    {
     "data": {
      "image/png": "[encoded data removed]",
      "text/plain": [
       "<Figure size 432x288 with 1 Axes>"
      ]
     },
     "metadata": {
      "needs_background": "light"
     },
     "output_type": "display_data"
    }
   ],
   "source": [
    "sns.violinplot(x=df['income'], y=df['age'])\n",
    "plt.show()"
   ]
  },
  {
   "cell_type": "markdown",
   "metadata": {},
   "source": [
    "### ANOVA\n",
    "\n",
    "Test for difference of means among several groups of continuous values.\n",
    "\n",
    "$H_0$: two or more groups have the same population mean."
   ]
  },
  {
   "cell_type": "code",
   "execution_count": 22,
   "metadata": {},
   "outputs": [],
   "source": [
    "from scipy.stats import f_oneway\n",
    "# null hypothesis: two or more groups have the same population mean"
   ]
  },
  {
   "cell_type": "code",
   "execution_count": 23,
   "metadata": {},
   "outputs": [
    {
     "data": {
      "text/plain": [
       "F_onewayResult(statistic=0.046406087888045115, pvalue=0.9546576532738937)"
      ]
     },
     "execution_count": 23,
     "metadata": {},
     "output_type": "execute_result"
    }
   ],
   "source": [
    "# A contrived example using three normally distributed lists of values\n",
    "x = np.random.normal(0,1,200)\n",
    "y = np.random.normal(0,1,100)\n",
    "z = np.random.normal(0,1,300)\n",
    "f_oneway(x, y, z)"
   ]
  },
  {
   "cell_type": "markdown",
   "metadata": {},
   "source": [
    "Since the p-value is “large”, we fail to reject the null hypothesis. That is, we conclude\n",
    "that there is strong evidence that the three distributions have the same mean.\n",
    "\n",
    "Notice that the groups do not have to be the same size."
   ]
  },
  {
   "cell_type": "code",
   "execution_count": 24,
   "metadata": {},
   "outputs": [
    {
     "data": {
      "text/plain": [
       "F_onewayResult(statistic=96537.33623715355, pvalue=0.0)"
      ]
     },
     "execution_count": 24,
     "metadata": {},
     "output_type": "execute_result"
    }
   ],
   "source": [
    "# Now let's try it with five columns from our dataset\n",
    "acols = ['age', 'fnlwgt', 'capgain', 'caploss', 'hours']\n",
    "f_oneway(*df[acols].T.values)"
   ]
  },
  {
   "cell_type": "markdown",
   "metadata": {},
   "source": [
    "We reject $H_0$, concluding that these groups do not have the same population mean."
   ]
  },
  {
   "cell_type": "code",
   "execution_count": 25,
   "metadata": {},
   "outputs": [],
   "source": [
    "# One more time, one attribute grouped by race\n",
    "X = []\n",
    "for r in df['race'].unique():\n",
    "    xr = df[df['race']==r]['age']\n",
    "    X.append(xr) # append to X\n",
    "# X is a list of lists, each of different length"
   ]
  },
  {
   "cell_type": "code",
   "execution_count": 26,
   "metadata": {},
   "outputs": [
    {
     "data": {
      "text/plain": [
       "F_onewayResult(statistic=11.528499338047334, pvalue=2.3698800718814655e-09)"
      ]
     },
     "execution_count": 26,
     "metadata": {},
     "output_type": "execute_result"
    }
   ],
   "source": [
    "f_oneway(*X)"
   ]
  },
  {
   "cell_type": "markdown",
   "metadata": {},
   "source": [
    "This result suggests that the distribution of `age` does not vary significantly with race.\n",
    "\n",
    "Let's plot the distributions and see if that seems right."
   ]
  },
  {
   "cell_type": "code",
   "execution_count": 27,
   "metadata": {},
   "outputs": [
    {
     "data": {
      "image/png": "[encoded data removed]",
      "text/plain": [
       "<Figure size 800x500 with 5 Axes>"
      ]
     },
     "metadata": {
      "needs_background": "light"
     },
     "output_type": "display_data"
    }
   ],
   "source": [
    "fig = plt.figure(figsize=(8,5), dpi=100)\n",
    "N = len(X)\n",
    "for n in range(N):\n",
    "    ax = plt.subplot(2, 3, n+1)\n",
    "    #c = pcols[n]\n",
    "    #ax.set_title('{}\\nskew={:.3f}\\nkurtosis={:.3f}'.format(c, skew(prob[c]), kurtosis(prob[c])))\n",
    "    ax.hist(X[n], range=(0,100), bins=100)\n",
    "plt.tight_layout()\n",
    "plt.show()"
   ]
  },
  {
   "cell_type": "markdown",
   "metadata": {},
   "source": [
    "### Correspondence Analysis (CA)\n",
    "\n",
    "Assess the dependencies between two categorical variables"
   ]
  },
  {
   "cell_type": "markdown",
   "metadata": {},
   "source": [
    "Let's consider two categorical attributes with several possible values each.\n",
    "We'll generate a contingency table, which shows the number of records in which\n",
    "two corresponding levels occur."
   ]
  },
  {
   "cell_type": "code",
   "execution_count": 28,
   "metadata": {},
   "outputs": [],
   "source": [
    "# Let's create a new attribute to represent education attainment\n",
    "edmap = {\n",
    "    '5th-6th': '<HS',\n",
    "    'Preschool': '<HS',\n",
    "    '1st-4th': '<HS',\n",
    "    '7th-8th': '<HS',\n",
    "    '9th': '<HS',\n",
    "    '10th': '<HS',\n",
    "    '11th': '<HS',\n",
    "    '12th': '<HS',\n",
    "    'HS-grad': 'HS',\n",
    "    'Some-college': 'HS',\n",
    "    'Assoc-acdm': 'AS',\n",
    "    'Assoc-voc': 'AS',\n",
    "    'Bachelors': 'BS',\n",
    "    'Masters': 'Adv',\n",
    "    'Doctorate': 'Adv',\n",
    "    'Prof-school': 'Adv'\n",
    "}\n",
    "df['edlevel'] = df['education'].map(edmap)"
   ]
  },
  {
   "cell_type": "code",
   "execution_count": 29,
   "metadata": {},
   "outputs": [
    {
     "data": {
      "text/html": [
       "<div>\n",
       "<style scoped>\n",
       "    .dataframe tbody tr th:only-of-type {\n",
       "        vertical-align: middle;\n",
       "    }\n",
       "\n",
       "    .dataframe tbody tr th {\n",
       "        vertical-align: top;\n",
       "    }\n",
       "\n",
       "    .dataframe thead th {\n",
       "        text-align: right;\n",
       "    }\n",
       "</style>\n",
       "<table border=\"1\" class=\"dataframe\">\n",
       "  <thead>\n",
       "    <tr style=\"text-align: right;\">\n",
       "      <th>edlevel</th>\n",
       "      <th>&lt;HS</th>\n",
       "      <th>AS</th>\n",
       "      <th>Adv</th>\n",
       "      <th>BS</th>\n",
       "      <th>HS</th>\n",
       "    </tr>\n",
       "    <tr>\n",
       "      <th>race</th>\n",
       "      <th></th>\n",
       "      <th></th>\n",
       "      <th></th>\n",
       "      <th></th>\n",
       "      <th></th>\n",
       "    </tr>\n",
       "  </thead>\n",
       "  <tbody>\n",
       "    <tr>\n",
       "      <th>Amer-Indian-Eskimo</th>\n",
       "      <td>47</td>\n",
       "      <td>23</td>\n",
       "      <td>9</td>\n",
       "      <td>20</td>\n",
       "      <td>187</td>\n",
       "    </tr>\n",
       "    <tr>\n",
       "      <th>Asian-Pac-Islander</th>\n",
       "      <td>75</td>\n",
       "      <td>62</td>\n",
       "      <td>142</td>\n",
       "      <td>252</td>\n",
       "      <td>364</td>\n",
       "    </tr>\n",
       "    <tr>\n",
       "      <th>Black</th>\n",
       "      <td>459</td>\n",
       "      <td>208</td>\n",
       "      <td>101</td>\n",
       "      <td>301</td>\n",
       "      <td>1748</td>\n",
       "    </tr>\n",
       "    <tr>\n",
       "      <th>Other</th>\n",
       "      <td>71</td>\n",
       "      <td>14</td>\n",
       "      <td>10</td>\n",
       "      <td>23</td>\n",
       "      <td>113</td>\n",
       "    </tr>\n",
       "    <tr>\n",
       "      <th>White</th>\n",
       "      <td>3089</td>\n",
       "      <td>2008</td>\n",
       "      <td>2282</td>\n",
       "      <td>4448</td>\n",
       "      <td>14106</td>\n",
       "    </tr>\n",
       "  </tbody>\n",
       "</table>\n",
       "</div>"
      ],
      "text/plain": [
       "edlevel              <HS    AS   Adv    BS     HS\n",
       "race                                             \n",
       "Amer-Indian-Eskimo    47    23     9    20    187\n",
       "Asian-Pac-Islander    75    62   142   252    364\n",
       "Black                459   208   101   301   1748\n",
       "Other                 71    14    10    23    113\n",
       "White               3089  2008  2282  4448  14106"
      ]
     },
     "execution_count": 29,
     "metadata": {},
     "output_type": "execute_result"
    }
   ],
   "source": [
    "# Here are two categorical attributes with several levels each\n",
    "ct = pd.crosstab(df['race'], df['edlevel'])\n",
    "ct"
   ]
  },
  {
   "cell_type": "markdown",
   "metadata": {},
   "source": [
    "It's very difficult to look at that table and see whether there exists a dependent relationship\n",
    "between these two variables! We can use *Correspondence Analysis (CA)* to assess the relationship\n",
    "between two categorical attributes.\n",
    "\n",
    "First, we'll need the [Prince](https://github.com/MaxHalford/prince) package installed.\n",
    "\n",
    "```\n",
    "pip install prince\n",
    "```"
   ]
  },
  {
   "cell_type": "code",
   "execution_count": 30,
   "metadata": {},
   "outputs": [
    {
     "data": {
      "text/html": [
       "<div>\n",
       "<style scoped>\n",
       "    .dataframe tbody tr th:only-of-type {\n",
       "        vertical-align: middle;\n",
       "    }\n",
       "\n",
       "    .dataframe tbody tr th {\n",
       "        vertical-align: top;\n",
       "    }\n",
       "\n",
       "    .dataframe thead th {\n",
       "        text-align: right;\n",
       "    }\n",
       "</style>\n",
       "<table border=\"1\" class=\"dataframe\">\n",
       "  <thead>\n",
       "    <tr style=\"text-align: right;\">\n",
       "      <th>occupation</th>\n",
       "      <th>Adm-clerical</th>\n",
       "      <th>Armed-Forces</th>\n",
       "      <th>Craft-repair</th>\n",
       "      <th>Exec-managerial</th>\n",
       "      <th>Farming-fishing</th>\n",
       "      <th>Handlers-cleaners</th>\n",
       "      <th>Machine-op-inspct</th>\n",
       "      <th>Other-service</th>\n",
       "      <th>Priv-house-serv</th>\n",
       "      <th>Prof-specialty</th>\n",
       "      <th>Protective-serv</th>\n",
       "      <th>Sales</th>\n",
       "      <th>Tech-support</th>\n",
       "      <th>Transport-moving</th>\n",
       "    </tr>\n",
       "    <tr>\n",
       "      <th>sex</th>\n",
       "      <th></th>\n",
       "      <th></th>\n",
       "      <th></th>\n",
       "      <th></th>\n",
       "      <th></th>\n",
       "      <th></th>\n",
       "      <th></th>\n",
       "      <th></th>\n",
       "      <th></th>\n",
       "      <th></th>\n",
       "      <th></th>\n",
       "      <th></th>\n",
       "      <th></th>\n",
       "      <th></th>\n",
       "    </tr>\n",
       "  </thead>\n",
       "  <tbody>\n",
       "    <tr>\n",
       "      <th>Female</th>\n",
       "      <td>2512</td>\n",
       "      <td>0</td>\n",
       "      <td>216</td>\n",
       "      <td>1143</td>\n",
       "      <td>65</td>\n",
       "      <td>164</td>\n",
       "      <td>543</td>\n",
       "      <td>1758</td>\n",
       "      <td>135</td>\n",
       "      <td>1491</td>\n",
       "      <td>76</td>\n",
       "      <td>1248</td>\n",
       "      <td>341</td>\n",
       "      <td>90</td>\n",
       "    </tr>\n",
       "    <tr>\n",
       "      <th>Male</th>\n",
       "      <td>1209</td>\n",
       "      <td>9</td>\n",
       "      <td>3814</td>\n",
       "      <td>2849</td>\n",
       "      <td>924</td>\n",
       "      <td>1186</td>\n",
       "      <td>1423</td>\n",
       "      <td>1454</td>\n",
       "      <td>8</td>\n",
       "      <td>2547</td>\n",
       "      <td>568</td>\n",
       "      <td>2336</td>\n",
       "      <td>571</td>\n",
       "      <td>1482</td>\n",
       "    </tr>\n",
       "  </tbody>\n",
       "</table>\n",
       "</div>"
      ],
      "text/plain": [
       "occupation  Adm-clerical  Armed-Forces  Craft-repair  Exec-managerial  \\\n",
       "sex                                                                     \n",
       "Female              2512             0           216             1143   \n",
       "Male                1209             9          3814             2849   \n",
       "\n",
       "occupation  Farming-fishing  Handlers-cleaners  Machine-op-inspct  \\\n",
       "sex                                                                 \n",
       "Female                   65                164                543   \n",
       "Male                    924               1186               1423   \n",
       "\n",
       "occupation  Other-service  Priv-house-serv  Prof-specialty  Protective-serv  \\\n",
       "sex                                                                           \n",
       "Female               1758              135            1491               76   \n",
       "Male                 1454                8            2547              568   \n",
       "\n",
       "occupation  Sales  Tech-support  Transport-moving  \n",
       "sex                                                \n",
       "Female       1248           341                90  \n",
       "Male         2336           571              1482  "
      ]
     },
     "execution_count": 30,
     "metadata": {},
     "output_type": "execute_result"
    }
   ],
   "source": [
    "# Here are two categorical attributes with several levels each\n",
    "ct = pd.crosstab(df['sex'], df['occupation'])\n",
    "ct"
   ]
  },
  {
   "cell_type": "code",
   "execution_count": 32,
   "metadata": {},
   "outputs": [],
   "source": [
    "from prince import CA\n",
    "ca = CA(\n",
    "    n_components=2,\n",
    "    n_iter=3,\n",
    "    copy=True,\n",
    "    engine='auto'\n",
    ")\n",
    "ca = ca.fit(ct)"
   ]
  },
  {
   "cell_type": "code",
   "execution_count": 33,
   "metadata": {},
   "outputs": [
    {
     "data": {
      "text/plain": [
       "<Figure size 500x500 with 0 Axes>"
      ]
     },
     "metadata": {},
     "output_type": "display_data"
    },
    {
     "data": {
      "image/png": "[encoded data removed]",
      "text/plain": [
       "<Figure size 432x432 with 1 Axes>"
      ]
     },
     "metadata": {
      "needs_background": "light"
     },
     "output_type": "display_data"
    }
   ],
   "source": [
    "fig = plt.figure(figsize=(5,5), dpi=100)\n",
    "plt.sca(ca.plot_coordinates(\n",
    "    X=ct,\n",
    "    x_component=1,\n",
    "    y_component=0,\n",
    "    show_row_labels=True,\n",
    "    show_col_labels=True\n",
    "))\n",
    "plt.show()"
   ]
  },
  {
   "cell_type": "markdown",
   "metadata": {},
   "source": [
    "### Multiple Correspondence Analysis (MCA)\n",
    "\n",
    "for analyzing relationships among more than two categoricals; basically PCA for categoricals"
   ]
  },
  {
   "cell_type": "code",
   "execution_count": 34,
   "metadata": {},
   "outputs": [],
   "source": [
    "from prince import MCA"
   ]
  },
  {
   "cell_type": "code",
   "execution_count": 35,
   "metadata": {},
   "outputs": [
    {
     "data": {
      "text/plain": [
       "Index(['age', 'workclass', 'fnlwgt', 'education', 'educ_num', 'marital_status',\n",
       "       'occupation', 'relationship', 'race', 'sex', 'capgain', 'caploss',\n",
       "       'hours', 'country', 'income', 'edlevel'],\n",
       "      dtype='object')"
      ]
     },
     "execution_count": 35,
     "metadata": {},
     "output_type": "execute_result"
    }
   ],
   "source": [
    "df.columns"
   ]
  },
  {
   "cell_type": "code",
   "execution_count": 36,
   "metadata": {},
   "outputs": [],
   "source": [
    "#categ_cols = ['workclass', 'education', 'marital_status', 'occupation', 'relationship', 'race', 'sex', 'country', 'income']\n",
    "categ_cols = ['workclass', 'education', 'race', 'sex']\n",
    "mca = MCA(\n",
    "    n_components=2,\n",
    "    n_iter=10,\n",
    "    copy=True,\n",
    "    check_input=True,\n",
    "    engine='auto'\n",
    ")\n",
    "mca = mca.fit(df[categ_cols])"
   ]
  },
  {
   "cell_type": "code",
   "execution_count": 37,
   "metadata": {},
   "outputs": [
    {
     "data": {
      "text/plain": [
       "MCA()"
      ]
     },
     "execution_count": 37,
     "metadata": {},
     "output_type": "execute_result"
    }
   ],
   "source": [
    "mca"
   ]
  },
  {
   "cell_type": "code",
   "execution_count": 38,
   "metadata": {},
   "outputs": [
    {
     "data": {
      "text/plain": [
       "<Figure size 500x500 with 0 Axes>"
      ]
     },
     "metadata": {},
     "output_type": "display_data"
    },
    {
     "data": {
      "image/png": "[encoded data removed]",
      "text/plain": [
       "<Figure size 432x432 with 1 Axes>"
      ]
     },
     "metadata": {
      "needs_background": "light"
     },
     "output_type": "display_data"
    }
   ],
   "source": [
    "fig = plt.figure(figsize=(5,5), dpi=100)\n",
    "ax = mca.plot_coordinates(\n",
    "    X=df[categ_cols],\n",
    "    ax=None,\n",
    "    show_row_points=True,\n",
    "    row_points_size=10,\n",
    "    show_row_labels=False,\n",
    "    show_column_points=True,\n",
    "    column_points_size=30,\n",
    "    show_column_labels=False,\n",
    "    legend_n_cols=1\n",
    ")\n",
    "plt.show()"
   ]
  },
  {
   "cell_type": "markdown",
   "metadata": {},
   "source": [
    "No clear relationships among ALL the categoricals, so let's narrow it down."
   ]
  },
  {
   "cell_type": "code",
   "execution_count": null,
   "metadata": {},
   "outputs": [],
   "source": []
  }
 ],
 "metadata": {
  "kernelspec": {
   "display_name": "default:Python",
   "language": "python",
   "name": "conda-env-default-py"
  },
  "language_info": {
   "codemirror_mode": {
    "name": "ipython",
    "version": 3
   },
   "file_extension": ".py",
   "mimetype": "text/x-python",
   "name": "python",
   "nbconvert_exporter": "python",
   "pygments_lexer": "ipython3",
   "version": "3.9.7"
  }
 },
 "nbformat": 4,
 "nbformat_minor": 4
}
