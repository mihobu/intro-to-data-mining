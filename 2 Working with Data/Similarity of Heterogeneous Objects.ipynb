{
 "cells": [
  {
   "cell_type": "markdown",
   "metadata": {},
   "source": [
    "# Similarities for heterogenous objects\n",
    "### Introduction to Data Mining (CSE 5243)\n",
    "\n",
    "Updated 2021-01-24 by [Michael Burkhardt](mailto:burkhardt.5@osu.edu)"
   ]
  },
  {
   "cell_type": "code",
   "execution_count": 1,
   "metadata": {},
   "outputs": [],
   "source": [
    "import numpy as np\n",
    "import pandas as pd\n",
    "from scipy.spatial.distance import pdist, squareform\n",
    "from sklearn.preprocessing import StandardScaler"
   ]
  },
  {
   "cell_type": "code",
   "execution_count": 2,
   "metadata": {},
   "outputs": [],
   "source": [
    "# Funtion to generate a random collection of toys\n",
    "shapes = ['plane', 'boat', 'car']\n",
    "colors = ['red', 'blue', 'green']\n",
    "sizes = [10, 25, 50]\n",
    "conditions = ['worn', 'fair', 'good', 'new']\n",
    "N = 3\n",
    "\n",
    "def make_toys():\n",
    "    return pd.DataFrame({\n",
    "        'shape': np.random.choice(shapes, N),\n",
    "        'color': np.random.choice(colors, N),\n",
    "        'size' : np.random.choice(sizes, N),\n",
    "        'condition' : np.random.choice(conditions, N)\n",
    "    }, index=['A', 'B', 'C'])"
   ]
  },
  {
   "cell_type": "markdown",
   "metadata": {},
   "source": [
    "### Proximity functions for numeric attributes\n",
    "\n",
    "For the `size` attribute, let's define dissimilarity as follows:\n",
    "\n",
    "$$\n",
    "d(p,q) = \\frac{|p-q|}{n_{max}-n_{min}}\n",
    "$$\n",
    "\n",
    "And we'll define similarity in terms of dissimilarity:\n",
    "$$\n",
    "s(p,q) = 1-d(p,q)\n",
    "$$\n",
    "\n",
    "where I've chosen $n_{min}=10$ and $n_{max}=50$."
   ]
  },
  {
   "cell_type": "code",
   "execution_count": 3,
   "metadata": {},
   "outputs": [],
   "source": [
    "def dissim_num(p, q, attr=None):\n",
    "    assert attr is not None, 'You must specify a list of possible values'\n",
    "    min_val = min(attr) # Minimum possible size\n",
    "    max_val = max(attr) # Maximum possible size\n",
    "    assert min_val <= p and p <= max_val, 'p must be between {} and {}'.format(min_val, max_val)\n",
    "    assert min_val <= q and q <= max_val, 'p must be between {} and {}'.format(min_val, max_val)\n",
    "    return(abs(p - q) / (max_val - min_val))\n",
    "\n",
    "def sim_num(p, q, attr=None):\n",
    "    assert attr is not None, 'You must specify a list of possible values'\n",
    "    return(1 - dissim_num(p, q, attr))"
   ]
  },
  {
   "cell_type": "markdown",
   "metadata": {},
   "source": [
    "### Proximity functions for nominal attributes\n",
    "\n",
    "Because the `shape` and `color` attributes are nominal, we'll define dissimilarity as either 0 or 1:\n",
    "\n",
    "$$\n",
    "d(p,q)=\\left\\{ \\begin{array}{rcl}\n",
    "0 & \\textrm{if} & p = q \\\\\n",
    "1 & \\textrm{if} & p \\ne q\n",
    "\\end{array}\\right.\n",
    "$$\n",
    "\n",
    "And because we know the value of $d(p,q)$ will always be either $0$ or $1$, we can\n",
    "define similarity as:\n",
    "\n",
    "$$\n",
    "s(p,q)=1-d(p,q)\n",
    "$$"
   ]
  },
  {
   "cell_type": "code",
   "execution_count": 4,
   "metadata": {},
   "outputs": [],
   "source": [
    "def dissim_nom(p, q):\n",
    "    return(0 if p==q else 1)\n",
    "\n",
    "def sim_nom(p, q):\n",
    "    return(1-dissim_nom(p, q))"
   ]
  },
  {
   "cell_type": "markdown",
   "metadata": {},
   "source": [
    "### Proximity functions for ordinal attributes\n",
    "The `condition` attribute is ordinal, so we need to decide how to define the values quantitatively.\n",
    "\n",
    "Let's use a simple scale with equal intervals: worn (0) < fair (1) < good (2) < new (3)\n",
    "\n",
    "With that in mind, we'll define dissimilarity as:\n",
    "\n",
    "$$\n",
    "d(p,q) = \\frac{|p-q|}{n-1}\n",
    "$$\n",
    "\n",
    "where $n=4$.\n",
    "\n",
    "We'll then define similarity as:\n",
    "\n",
    "$$\n",
    "s(p,q) = 1 - d(p,q)\n",
    "$$"
   ]
  },
  {
   "cell_type": "code",
   "execution_count": 5,
   "metadata": {},
   "outputs": [],
   "source": [
    "def dissim_ord(p, q, attr):\n",
    "    assert attr is not None, 'You must specify a list of possible values'\n",
    "    val_p = attr.index(p)\n",
    "    val_q = attr.index(q)\n",
    "    return(abs(val_p-val_q)/(len(attr)-1))\n",
    "\n",
    "def sim_ord(p, q, attr):\n",
    "    assert attr is not None, 'You must specify a list of possible values'\n",
    "    return(1-dissim_ord(p, q, attr))"
   ]
  },
  {
   "cell_type": "markdown",
   "metadata": {},
   "source": [
    "Recall the formula for similary of hetergenous objects (Tan2e, Formula 2.28):\n",
    "\n",
    "$$\n",
    "s(\\mathbf{x},\\mathbf{y}) = \\sum_{k=1}^{n}\\frac{\\delta_k s_k(\\mathbf{x},\\mathbf{y})}{\\delta_k}\n",
    "$$\n",
    "\n",
    "where\n",
    "\n",
    "* $𝑠_𝑘$ is a similarity function for the $k^{th}$ attribute, and the range of which is $0.0$ to $1.0$.\n",
    "* $\\delta_k$ is an indicator variable that is 0 if the $k^{th}$ attribute is asymmetric and both $x_k$ and $y_k$ are 0, and 1 otherwise.\n",
    "\n",
    "For our purposes, since we know there are no asymmetric attributges, this formula can be simplified as follows:\n",
    "\n",
    "$$\n",
    "s(\\mathbf{x},\\mathbf{y}) = \\sum_{k=1}^{n}\\frac{s_k(\\mathbf{x},\\mathbf{y})}{n}\n",
    "$$\n",
    "\n",
    "where $n$ is the number of attributes."
   ]
  },
  {
   "cell_type": "code",
   "execution_count": 6,
   "metadata": {},
   "outputs": [],
   "source": [
    "# Function to compute the similarity of two toys\n",
    "def sim_rec(objP, objQ):\n",
    "    return np.mean([\n",
    "        sim_nom(objP['shape'], objQ['shape']),\n",
    "        sim_nom(objP['color'], objQ['color']),\n",
    "        sim_num(objP['size'], objQ['size'], sizes),\n",
    "        sim_ord(objP['condition'], objQ['condition'], conditions)\n",
    "    ])"
   ]
  },
  {
   "cell_type": "code",
   "execution_count": 7,
   "metadata": {},
   "outputs": [
    {
     "data": {
      "text/html": [
       "<div>\n",
       "<style scoped>\n",
       "    .dataframe tbody tr th:only-of-type {\n",
       "        vertical-align: middle;\n",
       "    }\n",
       "\n",
       "    .dataframe tbody tr th {\n",
       "        vertical-align: top;\n",
       "    }\n",
       "\n",
       "    .dataframe thead th {\n",
       "        text-align: right;\n",
       "    }\n",
       "</style>\n",
       "<table border=\"1\" class=\"dataframe\">\n",
       "  <thead>\n",
       "    <tr style=\"text-align: right;\">\n",
       "      <th></th>\n",
       "      <th>shape</th>\n",
       "      <th>color</th>\n",
       "      <th>size</th>\n",
       "      <th>condition</th>\n",
       "    </tr>\n",
       "  </thead>\n",
       "  <tbody>\n",
       "    <tr>\n",
       "      <th>A</th>\n",
       "      <td>plane</td>\n",
       "      <td>blue</td>\n",
       "      <td>10</td>\n",
       "      <td>fair</td>\n",
       "    </tr>\n",
       "    <tr>\n",
       "      <th>B</th>\n",
       "      <td>boat</td>\n",
       "      <td>red</td>\n",
       "      <td>10</td>\n",
       "      <td>worn</td>\n",
       "    </tr>\n",
       "    <tr>\n",
       "      <th>C</th>\n",
       "      <td>car</td>\n",
       "      <td>blue</td>\n",
       "      <td>10</td>\n",
       "      <td>new</td>\n",
       "    </tr>\n",
       "  </tbody>\n",
       "</table>\n",
       "</div>"
      ],
      "text/plain": [
       "   shape color  size condition\n",
       "A  plane  blue    10      fair\n",
       "B   boat   red    10      worn\n",
       "C    car  blue    10       new"
      ]
     },
     "execution_count": 7,
     "metadata": {},
     "output_type": "execute_result"
    }
   ],
   "source": [
    "# Generate a new set of toys\n",
    "toys = make_toys()\n",
    "toys"
   ]
  },
  {
   "cell_type": "code",
   "execution_count": 8,
   "metadata": {},
   "outputs": [
    {
     "name": "stdout",
     "output_type": "stream",
     "text": [
      "s(A,B)=0.417, s(A,C)=0.583, s(B,C)=0.250\n"
     ]
    }
   ],
   "source": [
    "# Compute and display the similarities\n",
    "simAB = sim_rec(toys.loc['A'], toys.loc['B'])\n",
    "simAC = sim_rec(toys.loc['A'], toys.loc['C'])\n",
    "simBC = sim_rec(toys.loc['B'], toys.loc['C'])\n",
    "print('s(A,B)={:0.3f}, s(A,C)={:0.3f}, s(B,C)={:0.3f}'.format(simAB, simAC, simBC))"
   ]
  },
  {
   "cell_type": "code",
   "execution_count": null,
   "metadata": {},
   "outputs": [],
   "source": []
  },
  {
   "cell_type": "code",
   "execution_count": null,
   "metadata": {},
   "outputs": [],
   "source": []
  }
 ],
 "metadata": {
  "kernelspec": {
   "display_name": "default:Python",
   "language": "python",
   "name": "conda-env-default-py"
  },
  "language_info": {
   "codemirror_mode": {
    "name": "ipython",
    "version": 3
   },
   "file_extension": ".py",
   "mimetype": "text/x-python",
   "name": "python",
   "nbconvert_exporter": "python",
   "pygments_lexer": "ipython3",
   "version": "3.9.7"
  }
 },
 "nbformat": 4,
 "nbformat_minor": 4
}
