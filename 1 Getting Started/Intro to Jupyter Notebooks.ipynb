{
 "cells": [
  {
   "cell_type": "markdown",
   "metadata": {},
   "source": [
    "# Intro to Jupyter notebooks\n",
    "### CSE 5243 Introduction to Data Mining\n",
    "Updated 18-Aug-2019 by Michael Burkhardt <burkhardt.5@osu.edu>"
   ]
  },
  {
   "cell_type": "markdown",
   "metadata": {},
   "source": [
    "This is a \"Markdown\" cell. [Follow this link for help with Jupyter markdown syntax](https://help.github.com/en/articles/basic-writing-and-formatting-syntax), or click \"Help\" on the menu bar, then click the \"Markdown\" link."
   ]
  },
  {
   "cell_type": "code",
   "execution_count": 1,
   "metadata": {},
   "outputs": [
    {
     "name": "stdout",
     "output_type": "stream",
     "text": [
      "Hello, world.\n"
     ]
    }
   ],
   "source": [
    "# This is a \"Code\" cell.\n",
    "print('Hello, world.')"
   ]
  },
  {
   "cell_type": "code",
   "execution_count": 2,
   "metadata": {},
   "outputs": [],
   "source": [
    "# I like to put all my imports in one cell at the top of the notebook,\n",
    "# but you don't have to do things this way if you don't want to.\n",
    "import numpy as np              # import the NumPy library\n",
    "import matplotlib.pyplot as plt\n",
    "from scipy.stats import describe"
   ]
  },
  {
   "cell_type": "code",
   "execution_count": 3,
   "metadata": {},
   "outputs": [
    {
     "data": {
      "text/plain": [
       "DescribeResult(nobs=10000, minmax=(-4.064298280653099, 3.5395422631362616), mean=-0.01005068750540087, variance=1.0082043835380048, skewness=-0.01826396198225455, kurtosis=-0.02952355459972722)"
      ]
     },
     "execution_count": 3,
     "metadata": {},
     "output_type": "execute_result"
    }
   ],
   "source": [
    "# generate a list of normally distributed random values\n",
    "x = np.random.normal(size=10000)\n",
    "describe(x)"
   ]
  },
  {
   "cell_type": "code",
   "execution_count": 4,
   "metadata": {},
   "outputs": [
    {
     "data": {
      "image/png": "[encoded data removed]",
      "text/plain": [
       "<Figure size 800x300 with 1 Axes>"
      ]
     },
     "metadata": {
      "needs_background": "light"
     },
     "output_type": "display_data"
    }
   ],
   "source": [
    "# Plot a histogram using pyplot\n",
    "plt.figure(figsize=(8,3), dpi=100)\n",
    "plt.hist(x, bins=100)\n",
    "plt.show()"
   ]
  },
  {
   "cell_type": "raw",
   "metadata": {},
   "source": [
    "# This is a \"Raw NBConvert\" cell.\n",
    "# Raw cells are not interpreted by the notebook converter (NBConvert).\n",
    "# Content is passed through as-is (raw!).\n",
    "print('Nothing happens.')"
   ]
  },
  {
   "cell_type": "markdown",
   "metadata": {},
   "source": [
    "### Some Useful Links\n",
    "* [Gallery of Interesting Jupyter Notebooks](https://github.com/jupyter/jupyter/wiki/A-gallery-of-interesting-Jupyter-Notebooks) (Jupyter project)\n",
    "* [Collection of Jupyter Notebooks](https://github.com/jdwittenauer/ipython-notebooks) (JD Wittenauer)\n",
    "* [Markdown for Jupyter notebooks cheatsheet](https://medium.com/ibm-data-science-experience/markdown-for-jupyter-notebooks-cheatsheet-386c05aeebed) (IBM Watson Data Platform)\n",
    "* [Jupyter Notebook User Manual](https://jupyter.brynmawr.edu/services/public/dblank/Jupyter%20Notebook%20Users%20Manual.ipynb) (Jupyter @ Bryn Mawr College)\n",
    "\n",
    "You can also access a lot of useful reference material from the \"Help\" menu item above."
   ]
  },
  {
   "cell_type": "code",
   "execution_count": null,
   "metadata": {},
   "outputs": [],
   "source": []
  }
 ],
 "metadata": {
  "kernelspec": {
   "display_name": "default:Python",
   "language": "python",
   "name": "conda-env-default-py"
  },
  "language_info": {
   "codemirror_mode": {
    "name": "ipython",
    "version": 3
   },
   "file_extension": ".py",
   "mimetype": "text/x-python",
   "name": "python",
   "nbconvert_exporter": "python",
   "pygments_lexer": "ipython3",
   "version": "3.9.7"
  }
 },
 "nbformat": 4,
 "nbformat_minor": 4
}
