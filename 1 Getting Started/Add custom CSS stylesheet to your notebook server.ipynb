{
 "cells": [
  {
   "cell_type": "markdown",
   "metadata": {},
   "source": [
    "CSE 5243\n",
    "\n",
    "# Add custom CSS stylesheet to your notebook\n",
    "\n"
   ]
  },
  {
   "cell_type": "markdown",
   "metadata": {},
   "source": [
    "## 1. Generate a stylesheet\n",
    "\n",
    "Sometimes I get bored of the default styles in Jupyter notebooks. It can be helpful to apply custom stylings that are not only more aesthetically pleasing, but also make it easier on yourself to create and manage code in notebooks, especially large ones. For example, I like to make h2 elements really BOLD so that it is easy for me to find key sections in a notebook quickly. I should note that what we're talking about applying CSS styles to rendered markdown text. (It may be possible to change styles for other parts of the notebook too, I just haven't played with this.)\n",
    "\n",
    "For rendered markdown, we're going to focus on HTML elements of the class `rendered_html`.\n",
    "\n",
    "When run, the following cell will create a new file in the current directory called `custom.css`, which contains the remaining contents of the cell. Please refer to the comments for details about what's going on with the styles.\n",
    "\n",
    "**Important note: This doesn't work for Amazon SageMaker Studio Lab notebooks, which is based on Jupyter Lab. These instructions apply to Jupyter Notebook Server, which is a different animal.**"
   ]
  },
  {
   "cell_type": "code",
   "execution_count": 1,
   "metadata": {},
   "outputs": [
    {
     "name": "stdout",
     "output_type": "stream",
     "text": [
      "Writing custom.css\n"
     ]
    }
   ],
   "source": [
    "%%writefile custom.css\n",
    "\n",
    "/***************************************************\n",
    " * Text\n",
    " ***************************************************/\n",
    "\n",
    "/* Import my preferred Google font */\n",
    "@import url('https://fonts.googleapis.com/css?family=PT+Sans');\n",
    "\n",
    "/* Set default text properties for all rendered HTML */\n",
    ".rendered_html * {\n",
    "    font-family: \"PT Sans\";\n",
    "    color: #232333;\n",
    "    font-size: 16px;\n",
    "}\n",
    "\n",
    "/***************************************************\n",
    " * Headings\n",
    " ***************************************************/\n",
    "\n",
    "/* H1: Large blue type for top-level headings */\n",
    ".rendered_html h1 {\n",
    "    font-size: 36px;\n",
    "    color: #0044CC !important;\n",
    "    margin: 0;\n",
    "}\n",
    "\n",
    "/* H2: I use this for major sections. It is obnoxiously bold to\n",
    "   make it easier to spot in long notebooks. */\n",
    ".rendered_html h2 {\n",
    "  font-size: 30px;\n",
    "  line-height: 40px;\n",
    "  color: #232333;\n",
    "  text-align: center;\n",
    "  margin: 30px 0;\n",
    "  border-width: 10px 0;\n",
    "  border-style: solid;\n",
    "  border-color: #BB0000 #000000 #666666 #000000;\n",
    "  padding: 30px 0;\n",
    "  background-color: #DDDDDD;\n",
    "}\n",
    "\n",
    ".rendered_html h3 {\n",
    "    font-size: 24px;\n",
    "    color: #0044CC;\n",
    "}\n",
    "\n",
    "/***************************************************\n",
    " * Horizontal Rule\n",
    " ***************************************************/\n",
    "\n",
    "/* By default, horizontal rules are not very easy to spot,\n",
    "   given that notebook cells are also characterized by thin\n",
    "   horizontal lines. */\n",
    ".rendered_html hr {\n",
    "  color: #FFFFFF;\n",
    "  background-color: #FFFFFF;\n",
    "  border-top: 10px dotted #CCCCCC;\n",
    "  width: 50%;\n",
    "  height: 0;\n",
    "}\n",
    "\n",
    "/***************************************************\n",
    " * Code blocks\n",
    " ***************************************************/\n",
    "\n",
    "/* This style is applicable to inline code enclosed within\n",
    "   single, double, or triple backticks. */\n",
    ".rendered_html code {\n",
    "  background-color: #eeddcc;\n",
    "  color: #006622;\n",
    "  font-weight: bold;\n",
    "  padding: 2px;\n",
    "}\n",
    "\n",
    "/***************************************************\n",
    " * Table cells\n",
    " ***************************************************/\n",
    ".rendered_html table * {\n",
    "  font-size: 12px;\n",
    "}\n",
    "\n",
    "/*DL, DT, DD TAGS LIST DATA*/\n",
    "dl {\n",
    "  border: 1px solid red;\n",
    "  padding: 10px;\n",
    "  background-color: #FFCCCC;\n",
    "}\n",
    " \n",
    "dl dt {\n",
    "  color: #000000;\n",
    "  font-weight: bold; \n",
    "}\n",
    " \n",
    "dl dd {\n",
    "  display: list-item;\n",
    "  list-style-type: disc;\n",
    "  list-style-position: inside;\n",
    "  margin: 0 0 0 0; \n",
    "}"
   ]
  },
  {
   "cell_type": "markdown",
   "metadata": {},
   "source": [
    "## 2. Copy to the correct location"
   ]
  },
  {
   "cell_type": "code",
   "execution_count": 2,
   "metadata": {
    "scrolled": true
   },
   "outputs": [],
   "source": [
    "import os\n",
    "import jupyter_core"
   ]
  },
  {
   "cell_type": "code",
   "execution_count": 3,
   "metadata": {},
   "outputs": [
    {
     "data": {
      "text/plain": [
       "'/home/studio-lab-user/.jupyter/custom'"
      ]
     },
     "execution_count": 3,
     "metadata": {},
     "output_type": "execute_result"
    }
   ],
   "source": [
    "# Determine correct location for custom CSS\n",
    "customcss = jupyter_core.paths.jupyter_config_dir() + '/custom'\n",
    "customcss"
   ]
  },
  {
   "cell_type": "code",
   "execution_count": 4,
   "metadata": {},
   "outputs": [],
   "source": [
    "# Create the directory if it doesn't exist\n",
    "if not os.path.exists(customcss):\n",
    "    os.mkdir(customcss)\n",
    "    \n",
    "# Copy to the destination\n",
    "!cp custom.css {customcss}"
   ]
  },
  {
   "cell_type": "markdown",
   "metadata": {},
   "source": [
    "## 3. Reload for new styles to take effect\n",
    "\n",
    "Save and then shift-reload the page to load the new styles. (You shouldn't have to restart the notebook server\n",
    "or the kernel.)"
   ]
  },
  {
   "cell_type": "markdown",
   "metadata": {
    "tags": []
   },
   "source": [
    "### Test the styles here:\n",
    "\n",
    "|a|b|c|\n",
    "|-:|:-|:-|\n",
    "|1|alpha|A banana calls.|\n",
    "|22|beta|Before the *barbarians* storm the gate.|\n",
    "|333|gamma|Give me a break.|"
   ]
  },
  {
   "cell_type": "code",
   "execution_count": null,
   "metadata": {},
   "outputs": [],
   "source": []
  }
 ],
 "metadata": {
  "kernelspec": {
   "display_name": "default:Python",
   "language": "python",
   "name": "conda-env-default-py"
  },
  "language_info": {
   "codemirror_mode": {
    "name": "ipython",
    "version": 3
   },
   "file_extension": ".py",
   "mimetype": "text/x-python",
   "name": "python",
   "nbconvert_exporter": "python",
   "pygments_lexer": "ipython3",
   "version": "3.9.7"
  }
 },
 "nbformat": 4,
 "nbformat_minor": 4
}
